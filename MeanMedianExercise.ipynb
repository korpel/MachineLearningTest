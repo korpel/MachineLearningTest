{
 "cells": [
  {
   "cell_type": "markdown",
   "metadata": {
    "deletable": true,
    "editable": true
   },
   "source": [
    "# Exercise: Mean & Median Customer Spend"
   ]
  },
  {
   "cell_type": "markdown",
   "metadata": {
    "deletable": true,
    "editable": true
   },
   "source": [
    "Here's some code that will generate some random e-commerce data; just an array of total amount spent per transaction. Select the code block, and hit \"play\" to execute it:"
   ]
  },
  {
   "cell_type": "code",
   "execution_count": 37,
   "metadata": {
    "collapsed": false,
    "deletable": true,
    "editable": true
   },
   "outputs": [
    {
     "data": {
      "image/png": "[encoded data removed]",
      "text/plain": [
       "<matplotlib.figure.Figure at 0x121af37f0>"
      ]
     },
     "metadata": {},
     "output_type": "display_data"
    }
   ],
   "source": [
    "%matplotlib inline\n",
    "import numpy as np\n",
    "import matplotlib.pyplot as plt\n",
    "\n",
    "incomes = np.random.normal(100.0, 30.0, 10000)\n",
    "plt.hist(incomes, 30)\n",
    "plt.show()"
   ]
  },
  {
   "cell_type": "markdown",
   "metadata": {
    "deletable": true,
    "editable": true
   },
   "source": [
    "Now, find the mean and median of this data. In the code block below, write your code, and see if your result makes sense:"
   ]
  },
  {
   "cell_type": "code",
   "execution_count": 42,
   "metadata": {
    "collapsed": false,
    "deletable": true,
    "editable": true
   },
   "outputs": [
    {
     "name": "stdout",
     "output_type": "stream",
     "text": [
      "median 99.4158375799\n",
      "mean 1000899.33189\n"
     ]
    }
   ],
   "source": [
    "incomes = np.append(incomes,[10000000])\n",
    "print (\"median\", np.median(incomes))\n",
    "print(\"mean\" , np.mean(incomes))"
   ]
  },
  {
   "cell_type": "markdown",
   "metadata": {
    "deletable": true,
    "editable": true
   },
   "source": [
    "This is pretty much the world's easiest assignment, but we're just trying to get your hands on iPython and writing code with numpy to get you comfortable with it.\n",
    "\n",
    "Try playing with the code above to generate different distributions of data, or add outliers to it to see their effect."
   ]
  },
  {
   "cell_type": "code",
   "execution_count": 50,
   "metadata": {
    "collapsed": false,
    "deletable": true,
    "editable": true
   },
   "outputs": [
    {
     "name": "stdout",
     "output_type": "stream",
     "text": [
      "[52 19 51 75 61 70 89 53 30 31 67 65 68 75 82 80 36 51 33 30 33 63 65 63 76\n",
      " 86 78 54 25 24 33 47 56 78 63 79 86 50 71 25 49 56 30 78 46 52 33 24 56 38\n",
      " 72 66 66 29 30 63 30 48 32 69 55 22 88 53 65 43 45 87 58 74 56 20 55 67 60\n",
      " 26 87 80 31 85 67 55 41 77 74 69 33 88 63 69 47 64 38 66 62 43 20 59 19 47\n",
      " 24 59 89 46 76 30 60 85 34 37 28 50 34 27 75 41 31 86 37 56 80 86 52 53 41\n",
      " 50 70 31 56 82 27 87 23 68 77 81 32 23 62 52 29 89 20 22 75 22 18 72 62 46\n",
      " 61 48 78 39 35 21 27 81 57 29 78 67 45 72 43 57 42 34 27 67 71 19 44 78 56\n",
      " 44 72 26 79 64 75 44 29 82 51 39 82 54 79 60 27 58 88 43 50 30 47 24 25 20\n",
      " 38 39 65 85 55 22 67 66 26 24 87 60 51 63 73 63 41 33 48 65 64 59 67 58 66\n",
      " 46 87 24 71 37 48 78 36 57 51 29 65 53 69 57 67 55 56 55 82 74 22 61 79 87\n",
      " 84 52 88 56 41 30 48 23 80 20 56 33 27 62 72 21 80 24 25 36 50 87 51 33 20\n",
      " 23 64 85 69 56 79 33 87 81 80 78 86 81 36 25 56 39 64 39 74 32 59 22 29 55\n",
      " 42 53 20 88 81 31 65 43 71 84 71 32 54 27 42 50 45 48 67 89 19 51 49 39 61\n",
      " 35 20 30 47 81 69 43 38 71 58 38 34 60 75 88 22 48 33 33 46 52 75 81 63 26\n",
      " 79 35 75 39 74 58 42 35 61 18 45 86 85 42 89 86 77 39 70 65 81 27 38 52 29\n",
      " 29 65 20 85 21 54 72 67 81 32 59 45 52 22 45 88 56 43 54 28 51 46 67 41 69\n",
      " 69 89 59 70 73 20 53 45 53 59 35 28 32 53 87 84 41 36 21 58 52 81 53 54 74\n",
      " 46 66 87 56 28 23 30 86 47 65 27 49 87 72 76 89 30 67 32 88 60 77 52 62 42\n",
      " 32 80 70 64 40 70 87 54 42 44 53 36 23 61 59 70 84 70 44 88 75 83 34 35 82\n",
      " 78 33 34 89 75 45 45 72 88 18 33 52 22 82 58 21 58 24 58 38 81 73 28 67 79\n",
      " 37 80 29 20 86 57 25 49 67 49 77 76 69 78 33 35 31 89 56 28 24 46 59 36 81\n",
      " 84 86 87 84 23 83 57 89 23 73 68 55 76 45 74 85 27 37 39 76 23 53 85 88 54\n",
      " 56 58 20 46 70 19 35 28 28 39 48 43 82 45 74 48 76 57 82 61 63 45 49 21 61\n",
      " 44 46 49 78 28 31 41 20 48 74 29 46 72 69 47 48 18 79 20 89 26 34 88 72 37\n",
      " 29 18 25 66 66 65 25 71 61 79 30 53 19 78 77 52 75 89 69 83 18 41 31 47 48\n",
      " 65 29 40 89 38 58 32 41 18 76 22 47 85 70 87 62 35 83 37 36 77 21 34 45 75\n",
      " 50 88 46 34 74 87 53 73 20 42 37 71 48 22 28 21 59 36 63 55 80 74 44 68 49\n",
      " 37 33 73 75 38 80 29 40 81 42 72 45 70 84 63 52 69 39 70 60 60 87 18 30 76\n",
      " 75 24 22 39 47 78 38 19 49 42 50 21 26 40 23 42 68 62 64 80 41 24 76 47 26\n",
      " 75 42 29 54 83 59 88 38 34 29 26 43 31 82 81 58 88 20 44 35 47 71 47 24 81\n",
      " 29 51 19 88 30 83 76 73 81 34 46 20 80 88 83 35 53 50 68 19 62 57 59 30 65\n",
      " 84 59 33 64 48 21 43 74 73 89 76 89 66 36 44 30 37 46 23 58 65 85 36 68 62\n",
      " 46 86 38 55 22 28 27 21 25 87 63 41 27 50 88 39 89 67 32 44 59 42 81 66 68\n",
      " 28 84 52 37 37 73 25 58 35 39 88 41 60 57 65 23 82 43 83 47 51 21 55 60 76\n",
      " 39 23 74 74 21 59 35 37 73 35 83 72 41 49 39 41 38 72 49 39 40 35 26 63 49\n",
      " 67 33 25 70 64 85 87 67 45 38 81 18 27 60 71 63 25 32 80 39 40 70 48 39 21\n",
      " 30 65 86 31 59 27 37 59 21 56 51 74 20 62 57 23 34 51 67 69 39 74 65 46 39\n",
      " 69 38 19 81 22 26 21 22 52 33 82 74 55 69 37 39 25 46 71 40 38 48 48 78 25\n",
      " 56 47 61 49 56 67 76 77 44 28 42 20 69 36 59 73 32 70 43 73 80 69 26 61 80\n",
      " 22 41 31 65 33 84 58 71 19 80 71 44 30 60 38 53 39 26 35 40 77 38 62 37 67]\n"
     ]
    }
   ],
   "source": [
    "ages = np.random.randint(18,high=90,size=1000)\n",
    "print(ages)"
   ]
  },
  {
   "cell_type": "code",
   "execution_count": 51,
   "metadata": {
    "collapsed": false
   },
   "outputs": [
    {
     "data": {
      "text/plain": [
       "ModeResult(mode=array([39]), count=array([23]))"
      ]
     },
     "execution_count": 51,
     "metadata": {},
     "output_type": "execute_result"
    }
   ],
   "source": [
    "from scipy import stats\n",
    "stats.mode(ages)"
   ]
  },
  {
   "cell_type": "code",
   "execution_count": null,
   "metadata": {
    "collapsed": true
   },
   "outputs": [],
   "source": []
  }
 ],
 "metadata": {
  "kernelspec": {
   "display_name": "Python 3",
   "language": "python",
   "name": "python3"
  },
  "language_info": {
   "codemirror_mode": {
    "name": "ipython",
    "version": 3
   },
   "file_extension": ".py",
   "mimetype": "text/x-python",
   "name": "python",
   "nbconvert_exporter": "python",
   "pygments_lexer": "ipython3",
   "version": "3.5.2"
  }
 },
 "nbformat": 4,
 "nbformat_minor": 0
}
